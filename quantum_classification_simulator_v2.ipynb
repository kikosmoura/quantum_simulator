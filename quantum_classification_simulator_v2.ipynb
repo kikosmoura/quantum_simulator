{
 "cells": [
  {
   "cell_type": "code",
   "execution_count": 91,
   "id": "72660dc6-d22e-4250-9253-171ab1550ea6",
   "metadata": {},
   "outputs": [],
   "source": [
    "####################### normal classification #######################\n",
    "#####################################################################"
   ]
  },
  {
   "cell_type": "code",
   "execution_count": 100,
   "id": "081617cf-c8ba-49eb-9936-84c25fec38f4",
   "metadata": {},
   "outputs": [],
   "source": [
    "import pandas as pd\n",
    "import numpy as np\n",
    "\n",
    "# Carregar o arquivo CSV\n",
    "df = pd.read_csv(\"Training_Features.csv\")\n",
    "\n",
    "# Converter colunas preditoras para um array NumPy\n",
    "features = df[['B2', 'B3', 'B4', 'NDVI']].values\n",
    "#features = df[['B2', 'B8']].values\n",
    "\n",
    "#features = df[['NDVI_1','NDVI_2','NDVI_3','NDVI_4','NDVI_5','NDVI_6']].values\n",
    "\n",
    "# Converter a coluna 'classe' para um array NumPy\n",
    "labels = df['classe'].values"
   ]
  },
  {
   "cell_type": "code",
   "execution_count": 101,
   "id": "e156626a-9ec2-49ba-b811-f31af117900e",
   "metadata": {},
   "outputs": [
    {
     "data": {
      "text/html": [
       "<div>\n",
       "<style scoped>\n",
       "    .dataframe tbody tr th:only-of-type {\n",
       "        vertical-align: middle;\n",
       "    }\n",
       "\n",
       "    .dataframe tbody tr th {\n",
       "        vertical-align: top;\n",
       "    }\n",
       "\n",
       "    .dataframe thead th {\n",
       "        text-align: right;\n",
       "    }\n",
       "</style>\n",
       "<table border=\"1\" class=\"dataframe\">\n",
       "  <thead>\n",
       "    <tr style=\"text-align: right;\">\n",
       "      <th></th>\n",
       "      <th>system:index</th>\n",
       "      <th>B2</th>\n",
       "      <th>B3</th>\n",
       "      <th>B4</th>\n",
       "      <th>B8</th>\n",
       "      <th>NDVI</th>\n",
       "      <th>classe</th>\n",
       "      <th>.geo</th>\n",
       "    </tr>\n",
       "  </thead>\n",
       "  <tbody>\n",
       "    <tr>\n",
       "      <th>0</th>\n",
       "      <td>1_0_0</td>\n",
       "      <td>0.05900</td>\n",
       "      <td>0.08375</td>\n",
       "      <td>0.1058</td>\n",
       "      <td>0.2794</td>\n",
       "      <td>0.439862</td>\n",
       "      <td>1</td>\n",
       "      <td>{\"type\":\"MultiPoint\",\"coordinates\":[]}</td>\n",
       "    </tr>\n",
       "    <tr>\n",
       "      <th>1</th>\n",
       "      <td>1_1_0</td>\n",
       "      <td>0.04470</td>\n",
       "      <td>0.07080</td>\n",
       "      <td>0.0822</td>\n",
       "      <td>0.2740</td>\n",
       "      <td>0.480167</td>\n",
       "      <td>1</td>\n",
       "      <td>{\"type\":\"MultiPoint\",\"coordinates\":[]}</td>\n",
       "    </tr>\n",
       "    <tr>\n",
       "      <th>2</th>\n",
       "      <td>1_2_0</td>\n",
       "      <td>0.04345</td>\n",
       "      <td>0.07830</td>\n",
       "      <td>0.0780</td>\n",
       "      <td>0.2837</td>\n",
       "      <td>0.522777</td>\n",
       "      <td>1</td>\n",
       "      <td>{\"type\":\"MultiPoint\",\"coordinates\":[]}</td>\n",
       "    </tr>\n",
       "  </tbody>\n",
       "</table>\n",
       "</div>"
      ],
      "text/plain": [
       "  system:index       B2       B3      B4      B8      NDVI  classe  \\\n",
       "0        1_0_0  0.05900  0.08375  0.1058  0.2794  0.439862       1   \n",
       "1        1_1_0  0.04470  0.07080  0.0822  0.2740  0.480167       1   \n",
       "2        1_2_0  0.04345  0.07830  0.0780  0.2837  0.522777       1   \n",
       "\n",
       "                                     .geo  \n",
       "0  {\"type\":\"MultiPoint\",\"coordinates\":[]}  \n",
       "1  {\"type\":\"MultiPoint\",\"coordinates\":[]}  \n",
       "2  {\"type\":\"MultiPoint\",\"coordinates\":[]}  "
      ]
     },
     "execution_count": 101,
     "metadata": {},
     "output_type": "execute_result"
    }
   ],
   "source": [
    "df.head(3)"
   ]
  },
  {
   "cell_type": "code",
   "execution_count": 103,
   "id": "65217ddc-fbe1-47b9-b6e9-8a03c2ea0787",
   "metadata": {},
   "outputs": [],
   "source": [
    "from sklearn.preprocessing import MinMaxScaler\n",
    "\n",
    "features = MinMaxScaler().fit_transform(features)"
   ]
  },
  {
   "cell_type": "code",
   "execution_count": null,
   "id": "35180d96-5241-40f2-af34-92d593a77944",
   "metadata": {},
   "outputs": [],
   "source": []
  },
  {
   "cell_type": "code",
   "execution_count": 97,
   "id": "83c7bde1-6cd2-4a73-9329-ead73ca7d62a",
   "metadata": {},
   "outputs": [],
   "source": [
    "#################################################"
   ]
  },
  {
   "cell_type": "code",
   "execution_count": 92,
   "id": "2971ba73-85ab-4ee5-9f29-38b2d85949e1",
   "metadata": {},
   "outputs": [],
   "source": [
    "import pandas as pd\n",
    "\n",
    "# Lê o arquivo CSV com as features para predição\n",
    "df = pd.read_csv(\"Prediction_Features.csv\")\n"
   ]
  },
  {
   "cell_type": "code",
   "execution_count": 94,
   "id": "bf41b66b-0608-4893-aaee-126e4f3625bd",
   "metadata": {},
   "outputs": [],
   "source": [
    "\n",
    "# Seleciona as colunas que serão usadas como entrada para o modelo\n",
    "input_features = df[['B2', 'B3', 'B4', 'NDVI']]\t\n",
    "\n"
   ]
  },
  {
   "cell_type": "code",
   "execution_count": 96,
   "id": "548b0755-0400-46d6-be9d-1df8fc991a51",
   "metadata": {},
   "outputs": [],
   "source": [
    "input_features = df[['B2', 'B3', 'B4', 'NDVI']]\n"
   ]
  },
  {
   "cell_type": "code",
   "execution_count": null,
   "id": "fb81d70c-2950-4b2e-a3af-7a1922afb53d",
   "metadata": {},
   "outputs": [],
   "source": []
  },
  {
   "cell_type": "code",
   "execution_count": null,
   "id": "f4841218-3aec-4a78-bfb5-3db25f61dfef",
   "metadata": {},
   "outputs": [],
   "source": [
    "# Realiza a predição com o modelo treinado\n",
    "predictions_svc = svc.predict(input_features)\n",
    "\n",
    "# Adiciona a coluna de predição ao DataFrame\n",
    "df['prediction'] = predictions_svc\n",
    "\n",
    "# Salva o DataFrame com as predições em um novo arquivo CSV\n",
    "df.to_csv(\"Prediction_Features_with_predictions_v3.csv\", index=False)"
   ]
  },
  {
   "cell_type": "code",
   "execution_count": null,
   "id": "0981cfc5-5c74-4750-8daa-0728dc92e6c3",
   "metadata": {},
   "outputs": [],
   "source": []
  },
  {
   "cell_type": "code",
   "execution_count": null,
   "id": "4c1d8558-39a0-45ff-a08c-14e00aa2300a",
   "metadata": {},
   "outputs": [],
   "source": [
    "#####################"
   ]
  },
  {
   "cell_type": "code",
   "execution_count": 106,
   "id": "e03c25a7-7a47-42d6-944e-2de21a5a7e69",
   "metadata": {},
   "outputs": [
    {
     "name": "stderr",
     "output_type": "stream",
     "text": [
      "2025-03-05 16:17:50.029183: I external/local_xla/xla/tsl/cuda/cudart_stub.cc:32] Could not find cuda drivers on your machine, GPU will not be used.\n",
      "2025-03-05 16:17:50.132706: I external/local_xla/xla/tsl/cuda/cudart_stub.cc:32] Could not find cuda drivers on your machine, GPU will not be used.\n",
      "2025-03-05 16:17:50.216822: E external/local_xla/xla/stream_executor/cuda/cuda_fft.cc:477] Unable to register cuFFT factory: Attempting to register factory for plugin cuFFT when one has already been registered\n",
      "WARNING: All log messages before absl::InitializeLog() is called are written to STDERR\n",
      "E0000 00:00:1741202270.295372  675975 cuda_dnn.cc:8310] Unable to register cuDNN factory: Attempting to register factory for plugin cuDNN when one has already been registered\n",
      "E0000 00:00:1741202270.316802  675975 cuda_blas.cc:1418] Unable to register cuBLAS factory: Attempting to register factory for plugin cuBLAS when one has already been registered\n",
      "2025-03-05 16:17:50.484065: I tensorflow/core/platform/cpu_feature_guard.cc:210] This TensorFlow binary is optimized to use available CPU instructions in performance-critical operations.\n",
      "To enable the following instructions: AVX2 FMA, in other operations, rebuild TensorFlow with the appropriate compiler flags.\n"
     ]
    }
   ],
   "source": [
    "import pandas as pd\n",
    "import numpy as np\n",
    "from sklearn.preprocessing import MinMaxScaler\n",
    "import tensorflow as tf\n",
    "from tensorflow.keras.models import Sequential\n",
    "from tensorflow.keras.layers import Dense\n",
    "\n"
   ]
  },
  {
   "cell_type": "code",
   "execution_count": 110,
   "id": "8749f6fe-09da-4bd6-9d3a-1f10605c542e",
   "metadata": {},
   "outputs": [],
   "source": [
    "# --- Treinamento do Modelo ---\n",
    "\n",
    "# Carregar o arquivo de treinamento\n",
    "train_df = pd.read_csv(\"Training_Features.csv\")\n",
    "\n",
    "# Selecionar as features e os rótulos\n",
    "X_train = train_df[['B2', 'B3', 'B4', 'NDVI']].values\n",
    "y_train = train_df['classe'].values\n",
    "\n",
    "# Converter os rótulos de {1,2} para {0,1} para o treinamento\n",
    "y_train = y_train - 1\n",
    "\n",
    "# Normalizar os dados com MinMaxScaler\n",
    "scaler = MinMaxScaler()\n",
    "X_train = scaler.fit_transform(X_train)\n",
    "\n"
   ]
  },
  {
   "cell_type": "code",
   "execution_count": 111,
   "id": "bc0034b8-f15d-4c31-be8a-a44484ee9568",
   "metadata": {},
   "outputs": [
    {
     "name": "stdout",
     "output_type": "stream",
     "text": [
      "Epoch 1/50\n"
     ]
    },
    {
     "name": "stderr",
     "output_type": "stream",
     "text": [
      "/home/s299259068/Área de Trabalho/Projetos/quantum/qiskit_env/lib/python3.10/site-packages/keras/src/layers/core/dense.py:87: UserWarning: Do not pass an `input_shape`/`input_dim` argument to a layer. When using Sequential models, prefer using an `Input(shape)` object as the first layer in the model instead.\n",
      "  super().__init__(activity_regularizer=activity_regularizer, **kwargs)\n"
     ]
    },
    {
     "name": "stdout",
     "output_type": "stream",
     "text": [
      "\u001b[1m6/6\u001b[0m \u001b[32m━━━━━━━━━━━━━━━━━━━━\u001b[0m\u001b[37m\u001b[0m \u001b[1m1s\u001b[0m 6ms/step - accuracy: 0.5021 - loss: 0.6645  \n",
      "Epoch 2/50\n",
      "\u001b[1m6/6\u001b[0m \u001b[32m━━━━━━━━━━━━━━━━━━━━\u001b[0m\u001b[37m\u001b[0m \u001b[1m0s\u001b[0m 7ms/step - accuracy: 0.4825 - loss: 0.6179 \n",
      "Epoch 3/50\n",
      "\u001b[1m6/6\u001b[0m \u001b[32m━━━━━━━━━━━━━━━━━━━━\u001b[0m\u001b[37m\u001b[0m \u001b[1m0s\u001b[0m 6ms/step - accuracy: 0.8942 - loss: 0.5569 \n",
      "Epoch 4/50\n",
      "\u001b[1m6/6\u001b[0m \u001b[32m━━━━━━━━━━━━━━━━━━━━\u001b[0m\u001b[37m\u001b[0m \u001b[1m0s\u001b[0m 7ms/step - accuracy: 0.9949 - loss: 0.4966 \n",
      "Epoch 5/50\n",
      "\u001b[1m6/6\u001b[0m \u001b[32m━━━━━━━━━━━━━━━━━━━━\u001b[0m\u001b[37m\u001b[0m \u001b[1m0s\u001b[0m 7ms/step - accuracy: 1.0000 - loss: 0.4431 \n",
      "Epoch 6/50\n",
      "\u001b[1m6/6\u001b[0m \u001b[32m━━━━━━━━━━━━━━━━━━━━\u001b[0m\u001b[37m\u001b[0m \u001b[1m0s\u001b[0m 6ms/step - accuracy: 1.0000 - loss: 0.3961 \n",
      "Epoch 7/50\n",
      "\u001b[1m6/6\u001b[0m \u001b[32m━━━━━━━━━━━━━━━━━━━━\u001b[0m\u001b[37m\u001b[0m \u001b[1m0s\u001b[0m 6ms/step - accuracy: 1.0000 - loss: 0.3443 \n",
      "Epoch 8/50\n",
      "\u001b[1m6/6\u001b[0m \u001b[32m━━━━━━━━━━━━━━━━━━━━\u001b[0m\u001b[37m\u001b[0m \u001b[1m0s\u001b[0m 6ms/step - accuracy: 1.0000 - loss: 0.2889 \n",
      "Epoch 9/50\n",
      "\u001b[1m6/6\u001b[0m \u001b[32m━━━━━━━━━━━━━━━━━━━━\u001b[0m\u001b[37m\u001b[0m \u001b[1m0s\u001b[0m 6ms/step - accuracy: 1.0000 - loss: 0.2531 \n",
      "Epoch 10/50\n",
      "\u001b[1m6/6\u001b[0m \u001b[32m━━━━━━━━━━━━━━━━━━━━\u001b[0m\u001b[37m\u001b[0m \u001b[1m0s\u001b[0m 6ms/step - accuracy: 1.0000 - loss: 0.2196 \n",
      "Epoch 11/50\n",
      "\u001b[1m6/6\u001b[0m \u001b[32m━━━━━━━━━━━━━━━━━━━━\u001b[0m\u001b[37m\u001b[0m \u001b[1m0s\u001b[0m 6ms/step - accuracy: 1.0000 - loss: 0.1780 \n",
      "Epoch 12/50\n",
      "\u001b[1m6/6\u001b[0m \u001b[32m━━━━━━━━━━━━━━━━━━━━\u001b[0m\u001b[37m\u001b[0m \u001b[1m0s\u001b[0m 6ms/step - accuracy: 1.0000 - loss: 0.1520 \n",
      "Epoch 13/50\n",
      "\u001b[1m6/6\u001b[0m \u001b[32m━━━━━━━━━━━━━━━━━━━━\u001b[0m\u001b[37m\u001b[0m \u001b[1m0s\u001b[0m 10ms/step - accuracy: 1.0000 - loss: 0.1264\n",
      "Epoch 14/50\n",
      "\u001b[1m6/6\u001b[0m \u001b[32m━━━━━━━━━━━━━━━━━━━━\u001b[0m\u001b[37m\u001b[0m \u001b[1m0s\u001b[0m 10ms/step - accuracy: 1.0000 - loss: 0.1077\n",
      "Epoch 15/50\n",
      "\u001b[1m6/6\u001b[0m \u001b[32m━━━━━━━━━━━━━━━━━━━━\u001b[0m\u001b[37m\u001b[0m \u001b[1m0s\u001b[0m 9ms/step - accuracy: 1.0000 - loss: 0.0837 \n",
      "Epoch 16/50\n",
      "\u001b[1m6/6\u001b[0m \u001b[32m━━━━━━━━━━━━━━━━━━━━\u001b[0m\u001b[37m\u001b[0m \u001b[1m0s\u001b[0m 6ms/step - accuracy: 1.0000 - loss: 0.0655 \n",
      "Epoch 17/50\n",
      "\u001b[1m6/6\u001b[0m \u001b[32m━━━━━━━━━━━━━━━━━━━━\u001b[0m\u001b[37m\u001b[0m \u001b[1m0s\u001b[0m 6ms/step - accuracy: 1.0000 - loss: 0.0578 \n",
      "Epoch 18/50\n",
      "\u001b[1m6/6\u001b[0m \u001b[32m━━━━━━━━━━━━━━━━━━━━\u001b[0m\u001b[37m\u001b[0m \u001b[1m0s\u001b[0m 7ms/step - accuracy: 1.0000 - loss: 0.0488 \n",
      "Epoch 19/50\n",
      "\u001b[1m6/6\u001b[0m \u001b[32m━━━━━━━━━━━━━━━━━━━━\u001b[0m\u001b[37m\u001b[0m \u001b[1m0s\u001b[0m 7ms/step - accuracy: 1.0000 - loss: 0.0378 \n",
      "Epoch 20/50\n",
      "\u001b[1m6/6\u001b[0m \u001b[32m━━━━━━━━━━━━━━━━━━━━\u001b[0m\u001b[37m\u001b[0m \u001b[1m0s\u001b[0m 8ms/step - accuracy: 1.0000 - loss: 0.0310 \n",
      "Epoch 21/50\n",
      "\u001b[1m6/6\u001b[0m \u001b[32m━━━━━━━━━━━━━━━━━━━━\u001b[0m\u001b[37m\u001b[0m \u001b[1m0s\u001b[0m 7ms/step - accuracy: 1.0000 - loss: 0.0268 \n",
      "Epoch 22/50\n",
      "\u001b[1m6/6\u001b[0m \u001b[32m━━━━━━━━━━━━━━━━━━━━\u001b[0m\u001b[37m\u001b[0m \u001b[1m0s\u001b[0m 7ms/step - accuracy: 1.0000 - loss: 0.0251 \n",
      "Epoch 23/50\n",
      "\u001b[1m6/6\u001b[0m \u001b[32m━━━━━━━━━━━━━━━━━━━━\u001b[0m\u001b[37m\u001b[0m \u001b[1m0s\u001b[0m 6ms/step - accuracy: 1.0000 - loss: 0.0204 \n",
      "Epoch 24/50\n",
      "\u001b[1m6/6\u001b[0m \u001b[32m━━━━━━━━━━━━━━━━━━━━\u001b[0m\u001b[37m\u001b[0m \u001b[1m0s\u001b[0m 6ms/step - accuracy: 1.0000 - loss: 0.0178 \n",
      "Epoch 25/50\n",
      "\u001b[1m6/6\u001b[0m \u001b[32m━━━━━━━━━━━━━━━━━━━━\u001b[0m\u001b[37m\u001b[0m \u001b[1m0s\u001b[0m 6ms/step - accuracy: 1.0000 - loss: 0.0148 \n",
      "Epoch 26/50\n",
      "\u001b[1m6/6\u001b[0m \u001b[32m━━━━━━━━━━━━━━━━━━━━\u001b[0m\u001b[37m\u001b[0m \u001b[1m0s\u001b[0m 8ms/step - accuracy: 1.0000 - loss: 0.0141 \n",
      "Epoch 27/50\n",
      "\u001b[1m6/6\u001b[0m \u001b[32m━━━━━━━━━━━━━━━━━━━━\u001b[0m\u001b[37m\u001b[0m \u001b[1m0s\u001b[0m 7ms/step - accuracy: 1.0000 - loss: 0.0126 \n",
      "Epoch 28/50\n",
      "\u001b[1m6/6\u001b[0m \u001b[32m━━━━━━━━━━━━━━━━━━━━\u001b[0m\u001b[37m\u001b[0m \u001b[1m0s\u001b[0m 7ms/step - accuracy: 1.0000 - loss: 0.0111 \n",
      "Epoch 29/50\n",
      "\u001b[1m6/6\u001b[0m \u001b[32m━━━━━━━━━━━━━━━━━━━━\u001b[0m\u001b[37m\u001b[0m \u001b[1m0s\u001b[0m 6ms/step - accuracy: 1.0000 - loss: 0.0109 \n",
      "Epoch 30/50\n",
      "\u001b[1m6/6\u001b[0m \u001b[32m━━━━━━━━━━━━━━━━━━━━\u001b[0m\u001b[37m\u001b[0m \u001b[1m0s\u001b[0m 6ms/step - accuracy: 1.0000 - loss: 0.0098 \n",
      "Epoch 31/50\n",
      "\u001b[1m6/6\u001b[0m \u001b[32m━━━━━━━━━━━━━━━━━━━━\u001b[0m\u001b[37m\u001b[0m \u001b[1m0s\u001b[0m 7ms/step - accuracy: 1.0000 - loss: 0.0083 \n",
      "Epoch 32/50\n",
      "\u001b[1m6/6\u001b[0m \u001b[32m━━━━━━━━━━━━━━━━━━━━\u001b[0m\u001b[37m\u001b[0m \u001b[1m0s\u001b[0m 8ms/step - accuracy: 1.0000 - loss: 0.0080 \n",
      "Epoch 33/50\n",
      "\u001b[1m6/6\u001b[0m \u001b[32m━━━━━━━━━━━━━━━━━━━━\u001b[0m\u001b[37m\u001b[0m \u001b[1m0s\u001b[0m 7ms/step - accuracy: 1.0000 - loss: 0.0074 \n",
      "Epoch 34/50\n",
      "\u001b[1m6/6\u001b[0m \u001b[32m━━━━━━━━━━━━━━━━━━━━\u001b[0m\u001b[37m\u001b[0m \u001b[1m0s\u001b[0m 7ms/step - accuracy: 1.0000 - loss: 0.0073 \n",
      "Epoch 35/50\n",
      "\u001b[1m6/6\u001b[0m \u001b[32m━━━━━━━━━━━━━━━━━━━━\u001b[0m\u001b[37m\u001b[0m \u001b[1m0s\u001b[0m 6ms/step - accuracy: 1.0000 - loss: 0.0063 \n",
      "Epoch 36/50\n",
      "\u001b[1m6/6\u001b[0m \u001b[32m━━━━━━━━━━━━━━━━━━━━\u001b[0m\u001b[37m\u001b[0m \u001b[1m0s\u001b[0m 6ms/step - accuracy: 1.0000 - loss: 0.0056 \n",
      "Epoch 37/50\n",
      "\u001b[1m6/6\u001b[0m \u001b[32m━━━━━━━━━━━━━━━━━━━━\u001b[0m\u001b[37m\u001b[0m \u001b[1m0s\u001b[0m 7ms/step - accuracy: 1.0000 - loss: 0.0057 \n",
      "Epoch 38/50\n",
      "\u001b[1m6/6\u001b[0m \u001b[32m━━━━━━━━━━━━━━━━━━━━\u001b[0m\u001b[37m\u001b[0m \u001b[1m0s\u001b[0m 6ms/step - accuracy: 1.0000 - loss: 0.0055 \n",
      "Epoch 39/50\n",
      "\u001b[1m6/6\u001b[0m \u001b[32m━━━━━━━━━━━━━━━━━━━━\u001b[0m\u001b[37m\u001b[0m \u001b[1m0s\u001b[0m 7ms/step - accuracy: 1.0000 - loss: 0.0052 \n",
      "Epoch 40/50\n",
      "\u001b[1m6/6\u001b[0m \u001b[32m━━━━━━━━━━━━━━━━━━━━\u001b[0m\u001b[37m\u001b[0m \u001b[1m0s\u001b[0m 6ms/step - accuracy: 1.0000 - loss: 0.0043 \n",
      "Epoch 41/50\n",
      "\u001b[1m6/6\u001b[0m \u001b[32m━━━━━━━━━━━━━━━━━━━━\u001b[0m\u001b[37m\u001b[0m \u001b[1m0s\u001b[0m 7ms/step - accuracy: 1.0000 - loss: 0.0045 \n",
      "Epoch 42/50\n",
      "\u001b[1m6/6\u001b[0m \u001b[32m━━━━━━━━━━━━━━━━━━━━\u001b[0m\u001b[37m\u001b[0m \u001b[1m0s\u001b[0m 6ms/step - accuracy: 1.0000 - loss: 0.0040 \n",
      "Epoch 43/50\n",
      "\u001b[1m6/6\u001b[0m \u001b[32m━━━━━━━━━━━━━━━━━━━━\u001b[0m\u001b[37m\u001b[0m \u001b[1m0s\u001b[0m 6ms/step - accuracy: 1.0000 - loss: 0.0037 \n",
      "Epoch 44/50\n",
      "\u001b[1m6/6\u001b[0m \u001b[32m━━━━━━━━━━━━━━━━━━━━\u001b[0m\u001b[37m\u001b[0m \u001b[1m0s\u001b[0m 6ms/step - accuracy: 1.0000 - loss: 0.0036 \n",
      "Epoch 45/50\n",
      "\u001b[1m6/6\u001b[0m \u001b[32m━━━━━━━━━━━━━━━━━━━━\u001b[0m\u001b[37m\u001b[0m \u001b[1m0s\u001b[0m 6ms/step - accuracy: 1.0000 - loss: 0.0031 \n",
      "Epoch 46/50\n",
      "\u001b[1m6/6\u001b[0m \u001b[32m━━━━━━━━━━━━━━━━━━━━\u001b[0m\u001b[37m\u001b[0m \u001b[1m0s\u001b[0m 6ms/step - accuracy: 1.0000 - loss: 0.0031 \n",
      "Epoch 47/50\n",
      "\u001b[1m6/6\u001b[0m \u001b[32m━━━━━━━━━━━━━━━━━━━━\u001b[0m\u001b[37m\u001b[0m \u001b[1m0s\u001b[0m 8ms/step - accuracy: 1.0000 - loss: 0.0031 \n",
      "Epoch 48/50\n",
      "\u001b[1m6/6\u001b[0m \u001b[32m━━━━━━━━━━━━━━━━━━━━\u001b[0m\u001b[37m\u001b[0m \u001b[1m0s\u001b[0m 9ms/step - accuracy: 1.0000 - loss: 0.0030 \n",
      "Epoch 49/50\n",
      "\u001b[1m6/6\u001b[0m \u001b[32m━━━━━━━━━━━━━━━━━━━━\u001b[0m\u001b[37m\u001b[0m \u001b[1m0s\u001b[0m 10ms/step - accuracy: 1.0000 - loss: 0.0028\n",
      "Epoch 50/50\n",
      "\u001b[1m6/6\u001b[0m \u001b[32m━━━━━━━━━━━━━━━━━━━━\u001b[0m\u001b[37m\u001b[0m \u001b[1m0s\u001b[0m 9ms/step - accuracy: 1.0000 - loss: 0.0025 \n"
     ]
    },
    {
     "data": {
      "text/plain": [
       "<keras.src.callbacks.history.History at 0x7f37f045c370>"
      ]
     },
     "execution_count": 111,
     "metadata": {},
     "output_type": "execute_result"
    }
   ],
   "source": [
    "# Criar o modelo da rede neural\n",
    "model = Sequential()\n",
    "model.add(Dense(64, activation='relu', input_shape=(X_train.shape[1],)))\n",
    "model.add(Dense(32, activation='relu'))\n",
    "model.add(Dense(2, activation='softmax'))  # 2 classes\n",
    "\n",
    "# Compilar o modelo\n",
    "model.compile(optimizer='adam', \n",
    "              loss='sparse_categorical_crossentropy', \n",
    "              metrics=['accuracy'])\n",
    "\n",
    "# Treinar o modelo\n",
    "model.fit(X_train, y_train, epochs=50, batch_size=32, verbose=1)\n",
    "\n"
   ]
  },
  {
   "cell_type": "code",
   "execution_count": 112,
   "id": "d59fd731-3cd2-483d-a315-156182cc372d",
   "metadata": {},
   "outputs": [
    {
     "name": "stdout",
     "output_type": "stream",
     "text": [
      "\u001b[1m138/138\u001b[0m \u001b[32m━━━━━━━━━━━━━━━━━━━━\u001b[0m\u001b[37m\u001b[0m \u001b[1m0s\u001b[0m 1ms/step  \n"
     ]
    }
   ],
   "source": [
    "# --- Predição com o Modelo Treinado ---\n",
    "\n",
    "# Carregar o arquivo com features para predição\n",
    "pred_df = pd.read_csv(\"Prediction_Features.csv\")\n",
    "\n",
    "# Extrair e normalizar as features usando o mesmo scaler\n",
    "X_pred = pred_df[['B2', 'B3', 'B4', 'NDVI']].values\n",
    "X_pred = scaler.transform(X_pred)\n",
    "\n",
    "# Gerar as predições (as probabilidades)\n",
    "pred_probs = model.predict(X_pred)\n",
    "\n",
    "# Converter as probabilidades em classes preditas:\n",
    "# np.argmax retorna 0 ou 1 e somamos 1 para voltar aos valores originais (1 e 2)\n",
    "pred_classes = np.argmax(pred_probs, axis=1) + 1\n",
    "\n",
    "# Adicionar a coluna de predições ao DataFrame\n",
    "pred_df['prediction'] = pred_classes\n",
    "\n",
    "# Salvar o novo arquivo CSV com as predições\n",
    "pred_df.to_csv(\"Prediction_Features_with_predictions.csv\", index=False)\n"
   ]
  },
  {
   "cell_type": "code",
   "execution_count": null,
   "id": "b834491c-7b27-40fb-b70a-d435760b1b99",
   "metadata": {},
   "outputs": [],
   "source": []
  },
  {
   "cell_type": "code",
   "execution_count": null,
   "id": "f2990393-a4c0-459d-8fa0-cec301fc3e8d",
   "metadata": {},
   "outputs": [],
   "source": [
    "################################################################ \n",
    "##### comparaçao modelo normal e simulador quantico ############\n",
    "################################################################"
   ]
  },
  {
   "cell_type": "code",
   "execution_count": 2,
   "id": "b5c627a2-37ba-44a4-af20-55638b110704",
   "metadata": {},
   "outputs": [],
   "source": [
    "import rasterio\n",
    "import numpy as np\n",
    "import matplotlib.pyplot as plt\n",
    "from rasterio.warp import reproject, Resampling\n",
    "\n",
    "\n"
   ]
  },
  {
   "cell_type": "code",
   "execution_count": 1,
   "id": "30d60036-ed2d-4b16-bb67-064adb9c492f",
   "metadata": {},
   "outputs": [
    {
     "name": "stdout",
     "output_type": "stream",
     "text": [
      "Resultados para RasterPredictions_final_nn.tif:\n",
      "Predição = 1:\n",
      "  Mapbiomas == 39: 1910 (92.23%)\n",
      "  Mapbiomas != 39: 161 (7.77%)\n",
      "Predição = 2:\n",
      "  Mapbiomas == 3: 2215 (94.70%)\n",
      "  Mapbiomas != 3: 124 (5.30%)\n",
      "\n",
      "Resultados para RasterPredictions_final_v4.tif:\n",
      "Predição = 1:\n",
      "  Mapbiomas == 39: 1769 (76.58%)\n",
      "  Mapbiomas != 39: 541 (23.42%)\n",
      "Predição = 2:\n",
      "  Mapbiomas == 3: 1839 (87.57%)\n",
      "  Mapbiomas != 3: 261 (12.43%)\n"
     ]
    },
    {
     "data": {
      "image/png": "[encoded data removed]",
      "text/plain": [
       "<Figure size 1200x1000 with 4 Axes>"
      ]
     },
     "metadata": {},
     "output_type": "display_data"
    }
   ],
   "source": [
    "import rasterio\n",
    "import numpy as np\n",
    "import matplotlib.pyplot as plt\n",
    "from rasterio.warp import reproject, Resampling\n",
    "\n",
    "def reproject_mapbiomas(mapbiomas_path, target_profile):\n",
    "    \"\"\"\n",
    "    Lê a única banda do raster Mapbiomas e reamostra para a grade definida em target_profile.\n",
    "    \"\"\"\n",
    "    with rasterio.open(mapbiomas_path) as src:\n",
    "        data = src.read(1)  # Lê a única banda (contendo valores 39 ou 3)\n",
    "        dest = np.empty((target_profile['height'], target_profile['width']), dtype=data.dtype)\n",
    "        reproject(\n",
    "            source=data,\n",
    "            destination=dest,\n",
    "            src_transform=src.transform,\n",
    "            src_crs=src.crs,\n",
    "            dst_transform=target_profile['transform'],\n",
    "            dst_crs=target_profile['crs'],\n",
    "            resampling=Resampling.nearest  # vizinho mais próximo para preservar classes\n",
    "        )\n",
    "    return dest\n",
    "\n",
    "def autolabel(ax, bars, labels):\n",
    "    \"\"\"Adiciona os rótulos (contagem e percentual) acima das barras.\"\"\"\n",
    "    for bar, label in zip(bars, labels):\n",
    "        height = bar.get_height()\n",
    "        ax.text(bar.get_x() + bar.get_width()/2, height,\n",
    "                label, ha='center', va='bottom')\n",
    "\n",
    "def main():\n",
    "    # Caminhos dos arquivos\n",
    "    mapbiomas_path = \"Mapbiomas_RS_area_estudo.tif\"\n",
    "    pred_nn_path = \"RasterPredictions_final_nn.tif\"\n",
    "    pred_v4_path = \"RasterPredictions_final_v4.tif\"\n",
    "    \n",
    "    # Abre o arquivo de previsão (nn) para extrair o perfil alvo\n",
    "    with rasterio.open(pred_nn_path) as pred_nn:\n",
    "        target_profile = pred_nn.profile  # contém transform, crs, height, width, etc.\n",
    "        pred_nn_data = pred_nn.read(1)  # Valores 1 ou 2\n",
    "    \n",
    "    # Abre o arquivo de previsão (v4)\n",
    "    with rasterio.open(pred_v4_path) as pred_v4:\n",
    "        pred_v4_data = pred_v4.read(1)\n",
    "    \n",
    "    # Reprojeta o Mapbiomas para a grade dos arquivos de previsão\n",
    "    mapbiomas_data = reproject_mapbiomas(mapbiomas_path, target_profile)\n",
    "    \n",
    "    # === Cálculos para RasterPredictions_final_nn.tif ===\n",
    "    # Predição = 1\n",
    "    mask_nn_1 = (pred_nn_data == 1)\n",
    "    total_nn_1 = np.sum(mask_nn_1)\n",
    "    count_nn_1_map39 = np.sum((mapbiomas_data == 39) & mask_nn_1)\n",
    "    count_nn_1_not39 = np.sum((mapbiomas_data != 39) & mask_nn_1)\n",
    "    \n",
    "    perc_nn_1_map39 = 100 * count_nn_1_map39 / total_nn_1 if total_nn_1 > 0 else 0\n",
    "    perc_nn_1_not39 = 100 * count_nn_1_not39 / total_nn_1 if total_nn_1 > 0 else 0\n",
    "    \n",
    "    # Predição = 2\n",
    "    mask_nn_2 = (pred_nn_data == 2)\n",
    "    total_nn_2 = np.sum(mask_nn_2)\n",
    "    count_nn_2_map3 = np.sum((mapbiomas_data == 3) & mask_nn_2)\n",
    "    count_nn_2_not3 = np.sum((mapbiomas_data != 3) & mask_nn_2)\n",
    "    perc_nn_2_map3 = 100 * count_nn_2_map3 / total_nn_2 if total_nn_2 > 0 else 0\n",
    "    perc_nn_2_not3 = 100 * count_nn_2_not3 / total_nn_2 if total_nn_2 > 0 else 0\n",
    "    \n",
    "    # === Cálculos para RasterPredictions_final_v4.tif ===\n",
    "    # Predição = 1\n",
    "    mask_v4_1 = (pred_v4_data == 1)\n",
    "    total_v4_1 = np.sum(mask_v4_1)\n",
    "    count_v4_1_map39 = np.sum((mapbiomas_data == 39) & mask_v4_1)\n",
    "    count_v4_1_not39 = np.sum((mapbiomas_data != 39) & mask_v4_1)\n",
    "    \n",
    "    perc_v4_1_map39 = 100 * count_v4_1_map39 / total_v4_1 if total_v4_1 > 0 else 0\n",
    "    perc_v4_1_not39 = 100 * count_v4_1_not39 / total_v4_1 if total_v4_1 > 0 else 0\n",
    "    \n",
    "    # Predição = 2\n",
    "    mask_v4_2 = (pred_v4_data == 2)\n",
    "    total_v4_2 = np.sum(mask_v4_2)\n",
    "    count_v4_2_map3 = np.sum((mapbiomas_data == 3) & mask_v4_2)\n",
    "    count_v4_2_not3 = np.sum((mapbiomas_data != 3) & mask_v4_2)\n",
    "    perc_v4_2_map3 = 100 * count_v4_2_map3 / total_v4_2 if total_v4_2 > 0 else 0\n",
    "    perc_v4_2_not3 = 100 * count_v4_2_not3 / total_v4_2 if total_v4_2 > 0 else 0\n",
    "    \n",
    "    # === Exibe os resultados no console ===\n",
    "    print(\"Resultados para RasterPredictions_final_nn.tif:\")\n",
    "    print(\"Predição = 1:\")\n",
    "    print(f\"  Mapbiomas == 39: {count_nn_1_map39} ({perc_nn_1_map39:.2f}%)\")\n",
    "    print(f\"  Mapbiomas != 39: {count_nn_1_not39} ({perc_nn_1_not39:.2f}%)\")\n",
    "    print(\"Predição = 2:\")\n",
    "    print(f\"  Mapbiomas == 3: {count_nn_2_map3} ({perc_nn_2_map3:.2f}%)\")\n",
    "    print(f\"  Mapbiomas != 3: {count_nn_2_not3} ({perc_nn_2_not3:.2f}%)\\n\")\n",
    "    \n",
    "    print(\"Resultados para RasterPredictions_final_v4.tif:\")\n",
    "    print(\"Predição = 1:\")\n",
    "    print(f\"  Mapbiomas == 39: {count_v4_1_map39} ({perc_v4_1_map39:.2f}%)\")\n",
    "    print(f\"  Mapbiomas != 39: {count_v4_1_not39} ({perc_v4_1_not39:.2f}%)\")\n",
    "    print(\"Predição = 2:\")\n",
    "    print(f\"  Mapbiomas == 3: {count_v4_2_map3} ({perc_v4_2_map3:.2f}%)\")\n",
    "    print(f\"  Mapbiomas != 3: {count_v4_2_not3} ({perc_v4_2_not3:.2f}%)\")\n",
    "    \n",
    "    # === Gera gráficos para visualização ===\n",
    "    fig, axes = plt.subplots(2, 2, figsize=(12, 10))\n",
    "    \n",
    "    # RasterPredictions_final_nn.tif - Predição 1\n",
    "    colors_nn_1 = ['tab:blue', 'tab:orange']\n",
    "    bars = axes[0, 0].bar(['True Positive', 'False Positive'],\n",
    "                          [count_nn_1_map39, count_nn_1_not39],\n",
    "                          color=colors_nn_1)\n",
    "    axes[0, 0].set_title('Classical Neural Network - Prediction Soy')\n",
    "    axes[0, 0].set_ylabel('Pixel Count')\n",
    "    labels_nn_1 = [f\"{count_nn_1_map39} ({perc_nn_1_map39:.2f}%)\", f\"{count_nn_1_not39} ({perc_nn_1_not39:.2f}%)\"]\n",
    "    autolabel(axes[0, 0], bars, labels_nn_1)\n",
    "    \n",
    "    # RasterPredictions_final_nn.tif - Predição 2\n",
    "    colors_nn_2 = ['tab:blue', 'tab:orange']\n",
    "    bars = axes[0, 1].bar(['True Positive', 'False Positive'],\n",
    "                          [count_nn_2_map3, count_nn_2_not3],\n",
    "                          color=colors_nn_2)\n",
    "    axes[0, 1].set_title('Classical Neural Network - Prediction Forest Formation')\n",
    "    labels_nn_2 = [f\"{count_nn_2_map3} ({perc_nn_2_map3:.2f}%)\", f\"{count_nn_2_not3} ({perc_nn_2_not3:.2f}%)\"]\n",
    "    autolabel(axes[0, 1], bars, labels_nn_2)\n",
    "    \n",
    "    # RasterPredictions_final_v4.tif - Predição 1\n",
    "    colors_v4_1 = ['tab:blue', 'tab:orange']\n",
    "    bars = axes[1, 0].bar(['True Positive', 'False Positive'],\n",
    "                          [count_v4_1_map39, count_v4_1_not39],\n",
    "                          color=colors_v4_1)\n",
    "    axes[1, 0].set_title('Quantum Neural Network - Prediction Soy')\n",
    "    axes[1, 0].set_ylabel('Pixel Count')\n",
    "    labels_v4_1 = [f\"{count_v4_1_map39} ({perc_v4_1_map39:.2f}%)\", f\"{count_v4_1_not39} ({perc_v4_1_not39:.2f}%)\"]\n",
    "    autolabel(axes[1, 0], bars, labels_v4_1)\n",
    "    \n",
    "    # RasterPredictions_final_v4.tif - Predição 2\n",
    "    colors_v4_2 = ['tab:blue', 'tab:orange']\n",
    "    bars = axes[1, 1].bar(['True Positive', 'False Positive'],\n",
    "                          [count_v4_2_map3, count_v4_2_not3],\n",
    "                          color=colors_v4_2)\n",
    "    axes[1, 1].set_title('Quantum Neural Network - Prediction Forest Formation')\n",
    "    labels_v4_2 = [f\"{count_v4_2_map3} ({perc_v4_2_map3:.2f}%)\", f\"{count_v4_2_not3} ({perc_v4_2_not3:.2f}%)\"]\n",
    "    autolabel(axes[1, 1], bars, labels_v4_2)\n",
    "    \n",
    "    plt.tight_layout()\n",
    "    plt.show()\n",
    "\n",
    "if __name__ == \"__main__\":\n",
    "    main()\n"
   ]
  },
  {
   "cell_type": "code",
   "execution_count": null,
   "id": "eb7b792d-54e5-4475-8e4a-d59ddc1242ec",
   "metadata": {},
   "outputs": [],
   "source": []
  },
  {
   "cell_type": "code",
   "execution_count": null,
   "id": "5b77ba2d-0c7e-4690-be05-d760fe6b60d2",
   "metadata": {},
   "outputs": [],
   "source": []
  },
  {
   "cell_type": "code",
   "execution_count": null,
   "id": "7b860590-6b47-4aba-ad07-45d63ee8fb0e",
   "metadata": {},
   "outputs": [],
   "source": []
  },
  {
   "cell_type": "code",
   "execution_count": null,
   "id": "5f385473-51d4-4878-a551-d23a4fbb18cf",
   "metadata": {},
   "outputs": [],
   "source": []
  },
  {
   "cell_type": "code",
   "execution_count": null,
   "id": "4b04d2dc-85c5-429a-a1b7-c6858961a272",
   "metadata": {},
   "outputs": [],
   "source": []
  },
  {
   "cell_type": "code",
   "execution_count": null,
   "id": "4771b6f1-828c-4149-a7b7-6ba653f02b15",
   "metadata": {},
   "outputs": [],
   "source": []
  },
  {
   "cell_type": "code",
   "execution_count": null,
   "id": "6d637a39-2a78-4a93-91e3-efbf89ad2a92",
   "metadata": {},
   "outputs": [],
   "source": []
  },
  {
   "cell_type": "code",
   "execution_count": null,
   "id": "d414d73c-13b8-4ab7-a108-fd8e213e8703",
   "metadata": {},
   "outputs": [],
   "source": []
  },
  {
   "cell_type": "code",
   "execution_count": null,
   "id": "dd95b021-c842-456e-b20f-cef740c7d385",
   "metadata": {},
   "outputs": [],
   "source": []
  },
  {
   "cell_type": "code",
   "execution_count": null,
   "id": "aec8dc0f-5138-4ccf-ba4a-135792e1a4f2",
   "metadata": {},
   "outputs": [],
   "source": []
  },
  {
   "cell_type": "code",
   "execution_count": null,
   "id": "8bb6b5d8-c942-4e39-bd51-87e170197eee",
   "metadata": {},
   "outputs": [],
   "source": []
  },
  {
   "cell_type": "code",
   "execution_count": null,
   "id": "a6383ac3-c6b8-430f-b006-3c59b0934bf0",
   "metadata": {},
   "outputs": [],
   "source": []
  },
  {
   "cell_type": "code",
   "execution_count": null,
   "id": "6717930e-5565-4eb9-b097-3c5e6a2d5bad",
   "metadata": {},
   "outputs": [],
   "source": []
  },
  {
   "cell_type": "code",
   "execution_count": null,
   "id": "80d829d6-1c2e-43ec-93f1-1d99a6ae1082",
   "metadata": {},
   "outputs": [],
   "source": []
  },
  {
   "cell_type": "code",
   "execution_count": null,
   "id": "f7e42a95-4153-4f47-87ae-58ed37c81046",
   "metadata": {},
   "outputs": [],
   "source": []
  },
  {
   "cell_type": "code",
   "execution_count": null,
   "id": "99caff7a-9248-4d75-8184-1c9916bc3d3c",
   "metadata": {},
   "outputs": [],
   "source": []
  },
  {
   "cell_type": "code",
   "execution_count": null,
   "id": "054f0631-cf9a-43e9-9099-a9d924df14d5",
   "metadata": {},
   "outputs": [],
   "source": []
  },
  {
   "cell_type": "code",
   "execution_count": null,
   "id": "f4939ca5-6eba-4890-8310-bba9bf8bacb2",
   "metadata": {},
   "outputs": [],
   "source": []
  },
  {
   "cell_type": "code",
   "execution_count": null,
   "id": "163f084a-2a83-4d1b-be5b-e88285f2ea60",
   "metadata": {},
   "outputs": [],
   "source": []
  },
  {
   "cell_type": "code",
   "execution_count": null,
   "id": "8b43af49-9b04-43ee-8102-cb8b3ee1f85d",
   "metadata": {},
   "outputs": [],
   "source": []
  },
  {
   "cell_type": "code",
   "execution_count": null,
   "id": "42b54f7a-d1f6-4df2-984c-e2169e0b6c07",
   "metadata": {},
   "outputs": [],
   "source": []
  },
  {
   "cell_type": "code",
   "execution_count": null,
   "id": "b24ecf22-ae73-4f7a-a9de-34a016bae929",
   "metadata": {},
   "outputs": [],
   "source": []
  },
  {
   "cell_type": "code",
   "execution_count": null,
   "id": "f56cf321-b135-491f-b5b3-8eff91ac98e3",
   "metadata": {},
   "outputs": [],
   "source": []
  },
  {
   "cell_type": "code",
   "execution_count": null,
   "id": "c11aaca0-e3a8-41aa-848d-d1a7bdc40d06",
   "metadata": {},
   "outputs": [],
   "source": []
  },
  {
   "cell_type": "code",
   "execution_count": null,
   "id": "c6355f46-82dd-47b4-92fe-1e2832a49c5d",
   "metadata": {},
   "outputs": [],
   "source": []
  }
 ],
 "metadata": {
  "kernelspec": {
   "display_name": "Python 3.10 (qiskit_env)",
   "language": "python",
   "name": "qiskit_env"
  },
  "language_info": {
   "codemirror_mode": {
    "name": "ipython",
    "version": 3
   },
   "file_extension": ".py",
   "mimetype": "text/x-python",
   "name": "python",
   "nbconvert_exporter": "python",
   "pygments_lexer": "ipython3",
   "version": "3.10.12"
  }
 },
 "nbformat": 4,
 "nbformat_minor": 5
}
